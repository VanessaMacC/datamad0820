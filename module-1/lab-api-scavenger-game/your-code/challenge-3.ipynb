{
 "cells": [
  {
   "cell_type": "markdown",
   "metadata": {},
   "source": [
    "## Challenge 3: Hidden Cold Joke\n",
    "\n",
    "Using Python, call Github API to find out the cold joke contained in the 24 secret files in the following repo:\n",
    "\n",
    "https://github.com/ironhack-datalabs/scavenger\n",
    "\n",
    "The filenames of the secret files contain .scavengerhunt and they are scattered in different directories of this repo. The secret files are named from .0001.scavengerhunt to .0024.scavengerhunt. They are scattered randomly throughout this repo. You need to search for these files by calling the Github API, not searching the local files on your computer.\n",
    "\n",
    "Notes:\n",
    "\n",
    "Github API documentation can be found here.\n",
    "\n",
    "You will need to study the Github API documentation to decide which API endpoint to call and what parameters to use in order to obtain the information you need. Unless you are already super familiar with Github API or super lucky, you probably will do some trials and errors. Therefore, be prepared to go back and forth in studying the API documentation, testing, and revising until you obtain what you need.\n",
    "\n",
    "After receiving the JSON data object, you need to inspect its structure and decide how to parse the data.\n",
    "\n",
    "When you test your requests with Github API, sometimes you may be blocked by Github with an error message that reads:\n",
    "\n",
    "You have triggered an abuse detection mechanism and have been temporarily blocked from content creation. Please retry your request again later.\n",
    "\n",
    "Don't worry. Check the parameters in your request and wait for a minute or two before you make additional requests.\n",
    "\n",
    "After you find out the secrete files:\n",
    "\n",
    "Sort the filenames ascendingly.\n",
    "\n",
    "Read the content of each secret files into an array of strings.\n",
    "\n",
    "Concatenate the strings in the array separating each two with a whitespace.\n",
    "\n",
    "Print out the joke."
   ]
  },
  {
   "cell_type": "code",
   "execution_count": 1,
   "metadata": {},
   "outputs": [
    {
     "name": "stdout",
     "output_type": "stream",
     "text": [
      "setup completado\n"
     ]
    }
   ],
   "source": [
    "import os\n",
    "from dotenv import load_dotenv\n",
    "import requests\n",
    "\n",
    "load_dotenv()\n",
    "print(\"setup completado\")"
   ]
  },
  {
   "cell_type": "code",
   "execution_count": 2,
   "metadata": {},
   "outputs": [],
   "source": [
    "def get_gh_data(endpoint, apiKey=os.getenv(\"GITHUB_APIKEY\"), query_params={}):\n",
    "    \n",
    "    baseUrl = \"https://api.github.com\"\n",
    "    url = f\"{baseUrl}{endpoint}\"\n",
    "    headers = {\n",
    "        \"Authorization\": f\"Bearer {apiKey}\"\n",
    "    }\n",
    "    res = requests.get(url, params=query_params, headers=headers)\n",
    "    print(f\"Request data to {res.url} status_code:{res.status_code}\")\n",
    "    \n",
    "    data = res.json()\n",
    "    return data  "
   ]
  },
  {
   "cell_type": "code",
   "execution_count": 6,
   "metadata": {},
   "outputs": [
    {
     "name": "stdout",
     "output_type": "stream",
     "text": [
      "Request data to https://api.github.com/search/code?q=filename%3A.scavengerhunt+repo%3Aironhack-datalabs%2Fscavenger status_code:200\n",
      "24\n",
      "{'name': '.0001.scavengerhunt', 'path': '98750/.0001.scavengerhunt', 'sha': '2add7632f1323136324efbf38ec66db1838b6173', 'size': 3, 'url': 'https://api.github.com/repos/ironhack-datalabs/scavenger/contents/98750/.0001.scavengerhunt?ref=9308ccc8a4c34c5e3a991ee815222a9691c32476', 'html_url': 'https://github.com/ironhack-datalabs/scavenger/blob/9308ccc8a4c34c5e3a991ee815222a9691c32476/98750/.0001.scavengerhunt', 'git_url': 'https://api.github.com/repos/ironhack-datalabs/scavenger/git/blobs/2add7632f1323136324efbf38ec66db1838b6173', 'download_url': 'https://raw.githubusercontent.com/ironhack-datalabs/scavenger/9308ccc8a4c34c5e3a991ee815222a9691c32476/98750/.0001.scavengerhunt', 'type': 'file', 'content': 'SW4K\\n', 'encoding': 'base64', '_links': {'self': 'https://api.github.com/repos/ironhack-datalabs/scavenger/contents/98750/.0001.scavengerhunt?ref=9308ccc8a4c34c5e3a991ee815222a9691c32476', 'git': 'https://api.github.com/repos/ironhack-datalabs/scavenger/git/blobs/2add7632f1323136324efbf38ec66db1838b6173', 'html': 'https://github.com/ironhack-datalabs/scavenger/blob/9308ccc8a4c34c5e3a991ee815222a9691c32476/98750/.0001.scavengerhunt'}}\n",
      "{'name': '.0002.scavengerhunt', 'path': '88596/.0002.scavengerhunt', 'sha': '1269488f7fb1f4b56a8c0e5eb48cecbfadfa9219', 'size': 5, 'url': 'https://api.github.com/repos/ironhack-datalabs/scavenger/contents/88596/.0002.scavengerhunt?ref=9308ccc8a4c34c5e3a991ee815222a9691c32476', 'html_url': 'https://github.com/ironhack-datalabs/scavenger/blob/9308ccc8a4c34c5e3a991ee815222a9691c32476/88596/.0002.scavengerhunt', 'git_url': 'https://api.github.com/repos/ironhack-datalabs/scavenger/git/blobs/1269488f7fb1f4b56a8c0e5eb48cecbfadfa9219', 'download_url': 'https://raw.githubusercontent.com/ironhack-datalabs/scavenger/9308ccc8a4c34c5e3a991ee815222a9691c32476/88596/.0002.scavengerhunt', 'type': 'file', 'content': 'ZGF0YQo=\\n', 'encoding': 'base64', '_links': {'self': 'https://api.github.com/repos/ironhack-datalabs/scavenger/contents/88596/.0002.scavengerhunt?ref=9308ccc8a4c34c5e3a991ee815222a9691c32476', 'git': 'https://api.github.com/repos/ironhack-datalabs/scavenger/git/blobs/1269488f7fb1f4b56a8c0e5eb48cecbfadfa9219', 'html': 'https://github.com/ironhack-datalabs/scavenger/blob/9308ccc8a4c34c5e3a991ee815222a9691c32476/88596/.0002.scavengerhunt'}}\n",
      "{'name': '.0003.scavengerhunt', 'path': '60224/.0003.scavengerhunt', 'sha': 'ba524d7abc4b3a0c0995eb85c9eef470e9e7172f', 'size': 9, 'url': 'https://api.github.com/repos/ironhack-datalabs/scavenger/contents/60224/.0003.scavengerhunt?ref=9308ccc8a4c34c5e3a991ee815222a9691c32476', 'html_url': 'https://github.com/ironhack-datalabs/scavenger/blob/9308ccc8a4c34c5e3a991ee815222a9691c32476/60224/.0003.scavengerhunt', 'git_url': 'https://api.github.com/repos/ironhack-datalabs/scavenger/git/blobs/ba524d7abc4b3a0c0995eb85c9eef470e9e7172f', 'download_url': 'https://raw.githubusercontent.com/ironhack-datalabs/scavenger/9308ccc8a4c34c5e3a991ee815222a9691c32476/60224/.0003.scavengerhunt', 'type': 'file', 'content': 'c2NpZW5jZSwK\\n', 'encoding': 'base64', '_links': {'self': 'https://api.github.com/repos/ironhack-datalabs/scavenger/contents/60224/.0003.scavengerhunt?ref=9308ccc8a4c34c5e3a991ee815222a9691c32476', 'git': 'https://api.github.com/repos/ironhack-datalabs/scavenger/git/blobs/ba524d7abc4b3a0c0995eb85c9eef470e9e7172f', 'html': 'https://github.com/ironhack-datalabs/scavenger/blob/9308ccc8a4c34c5e3a991ee815222a9691c32476/60224/.0003.scavengerhunt'}}\n",
      "{'name': '.0004.scavengerhunt', 'path': '68848/.0004.scavengerhunt', 'sha': 'd15a2cc44e31b14c65264271b81072e5ba0e1634', 'size': 3, 'url': 'https://api.github.com/repos/ironhack-datalabs/scavenger/contents/68848/.0004.scavengerhunt?ref=9308ccc8a4c34c5e3a991ee815222a9691c32476', 'html_url': 'https://github.com/ironhack-datalabs/scavenger/blob/9308ccc8a4c34c5e3a991ee815222a9691c32476/68848/.0004.scavengerhunt', 'git_url': 'https://api.github.com/repos/ironhack-datalabs/scavenger/git/blobs/d15a2cc44e31b14c65264271b81072e5ba0e1634', 'download_url': 'https://raw.githubusercontent.com/ironhack-datalabs/scavenger/9308ccc8a4c34c5e3a991ee815222a9691c32476/68848/.0004.scavengerhunt', 'type': 'file', 'content': 'ODAK\\n', 'encoding': 'base64', '_links': {'self': 'https://api.github.com/repos/ironhack-datalabs/scavenger/contents/68848/.0004.scavengerhunt?ref=9308ccc8a4c34c5e3a991ee815222a9691c32476', 'git': 'https://api.github.com/repos/ironhack-datalabs/scavenger/git/blobs/d15a2cc44e31b14c65264271b81072e5ba0e1634', 'html': 'https://github.com/ironhack-datalabs/scavenger/blob/9308ccc8a4c34c5e3a991ee815222a9691c32476/68848/.0004.scavengerhunt'}}\n",
      "{'name': '.0005.scavengerhunt', 'path': '44639/.0005.scavengerhunt', 'sha': '3aaf448b40f878cf3067e2323616143bdde600de', 'size': 8, 'url': 'https://api.github.com/repos/ironhack-datalabs/scavenger/contents/44639/.0005.scavengerhunt?ref=9308ccc8a4c34c5e3a991ee815222a9691c32476', 'html_url': 'https://github.com/ironhack-datalabs/scavenger/blob/9308ccc8a4c34c5e3a991ee815222a9691c32476/44639/.0005.scavengerhunt', 'git_url': 'https://api.github.com/repos/ironhack-datalabs/scavenger/git/blobs/3aaf448b40f878cf3067e2323616143bdde600de', 'download_url': 'https://raw.githubusercontent.com/ironhack-datalabs/scavenger/9308ccc8a4c34c5e3a991ee815222a9691c32476/44639/.0005.scavengerhunt', 'type': 'file', 'content': 'cGVyY2VudAo=\\n', 'encoding': 'base64', '_links': {'self': 'https://api.github.com/repos/ironhack-datalabs/scavenger/contents/44639/.0005.scavengerhunt?ref=9308ccc8a4c34c5e3a991ee815222a9691c32476', 'git': 'https://api.github.com/repos/ironhack-datalabs/scavenger/git/blobs/3aaf448b40f878cf3067e2323616143bdde600de', 'html': 'https://github.com/ironhack-datalabs/scavenger/blob/9308ccc8a4c34c5e3a991ee815222a9691c32476/44639/.0005.scavengerhunt'}}\n",
      "{'name': '.0006.scavengerhunt', 'path': '15024/.0006.scavengerhunt', 'sha': '1c9064284a24b3486015eafdb391b141c27ada2b', 'size': 3, 'url': 'https://api.github.com/repos/ironhack-datalabs/scavenger/contents/15024/.0006.scavengerhunt?ref=9308ccc8a4c34c5e3a991ee815222a9691c32476', 'html_url': 'https://github.com/ironhack-datalabs/scavenger/blob/9308ccc8a4c34c5e3a991ee815222a9691c32476/15024/.0006.scavengerhunt', 'git_url': 'https://api.github.com/repos/ironhack-datalabs/scavenger/git/blobs/1c9064284a24b3486015eafdb391b141c27ada2b', 'download_url': 'https://raw.githubusercontent.com/ironhack-datalabs/scavenger/9308ccc8a4c34c5e3a991ee815222a9691c32476/15024/.0006.scavengerhunt', 'type': 'file', 'content': 'b2YK\\n', 'encoding': 'base64', '_links': {'self': 'https://api.github.com/repos/ironhack-datalabs/scavenger/contents/15024/.0006.scavengerhunt?ref=9308ccc8a4c34c5e3a991ee815222a9691c32476', 'git': 'https://api.github.com/repos/ironhack-datalabs/scavenger/git/blobs/1c9064284a24b3486015eafdb391b141c27ada2b', 'html': 'https://github.com/ironhack-datalabs/scavenger/blob/9308ccc8a4c34c5e3a991ee815222a9691c32476/15024/.0006.scavengerhunt'}}\n",
      "{'name': '.0007.scavengerhunt', 'path': '17020/.0007.scavengerhunt', 'sha': '6abb415e0ae3450be0f323113bcca2af195ebbff', 'size': 5, 'url': 'https://api.github.com/repos/ironhack-datalabs/scavenger/contents/17020/.0007.scavengerhunt?ref=9308ccc8a4c34c5e3a991ee815222a9691c32476', 'html_url': 'https://github.com/ironhack-datalabs/scavenger/blob/9308ccc8a4c34c5e3a991ee815222a9691c32476/17020/.0007.scavengerhunt', 'git_url': 'https://api.github.com/repos/ironhack-datalabs/scavenger/git/blobs/6abb415e0ae3450be0f323113bcca2af195ebbff', 'download_url': 'https://raw.githubusercontent.com/ironhack-datalabs/scavenger/9308ccc8a4c34c5e3a991ee815222a9691c32476/17020/.0007.scavengerhunt', 'type': 'file', 'content': 'dGltZQo=\\n', 'encoding': 'base64', '_links': {'self': 'https://api.github.com/repos/ironhack-datalabs/scavenger/contents/17020/.0007.scavengerhunt?ref=9308ccc8a4c34c5e3a991ee815222a9691c32476', 'git': 'https://api.github.com/repos/ironhack-datalabs/scavenger/git/blobs/6abb415e0ae3450be0f323113bcca2af195ebbff', 'html': 'https://github.com/ironhack-datalabs/scavenger/blob/9308ccc8a4c34c5e3a991ee815222a9691c32476/17020/.0007.scavengerhunt'}}\n"
     ]
    },
    {
     "name": "stdout",
     "output_type": "stream",
     "text": [
      "{'name': '.0008.scavengerhunt', 'path': '15534/.0008.scavengerhunt', 'sha': 'e351fb73264581ce26504b97ef07daea35116f32', 'size': 6, 'url': 'https://api.github.com/repos/ironhack-datalabs/scavenger/contents/15534/.0008.scavengerhunt?ref=9308ccc8a4c34c5e3a991ee815222a9691c32476', 'html_url': 'https://github.com/ironhack-datalabs/scavenger/blob/9308ccc8a4c34c5e3a991ee815222a9691c32476/15534/.0008.scavengerhunt', 'git_url': 'https://api.github.com/repos/ironhack-datalabs/scavenger/git/blobs/e351fb73264581ce26504b97ef07daea35116f32', 'download_url': 'https://raw.githubusercontent.com/ironhack-datalabs/scavenger/9308ccc8a4c34c5e3a991ee815222a9691c32476/15534/.0008.scavengerhunt', 'type': 'file', 'content': 'c3BlbnQK\\n', 'encoding': 'base64', '_links': {'self': 'https://api.github.com/repos/ironhack-datalabs/scavenger/contents/15534/.0008.scavengerhunt?ref=9308ccc8a4c34c5e3a991ee815222a9691c32476', 'git': 'https://api.github.com/repos/ironhack-datalabs/scavenger/git/blobs/e351fb73264581ce26504b97ef07daea35116f32', 'html': 'https://github.com/ironhack-datalabs/scavenger/blob/9308ccc8a4c34c5e3a991ee815222a9691c32476/15534/.0008.scavengerhunt'}}\n",
      "{'name': '.0009.scavengerhunt', 'path': '97881/.0009.scavengerhunt', 'sha': 'f5cb13223fdc1b11f4cfbbe1694f533b3c579fa0', 'size': 3, 'url': 'https://api.github.com/repos/ironhack-datalabs/scavenger/contents/97881/.0009.scavengerhunt?ref=9308ccc8a4c34c5e3a991ee815222a9691c32476', 'html_url': 'https://github.com/ironhack-datalabs/scavenger/blob/9308ccc8a4c34c5e3a991ee815222a9691c32476/97881/.0009.scavengerhunt', 'git_url': 'https://api.github.com/repos/ironhack-datalabs/scavenger/git/blobs/f5cb13223fdc1b11f4cfbbe1694f533b3c579fa0', 'download_url': 'https://raw.githubusercontent.com/ironhack-datalabs/scavenger/9308ccc8a4c34c5e3a991ee815222a9691c32476/97881/.0009.scavengerhunt', 'type': 'file', 'content': 'aXMK\\n', 'encoding': 'base64', '_links': {'self': 'https://api.github.com/repos/ironhack-datalabs/scavenger/contents/97881/.0009.scavengerhunt?ref=9308ccc8a4c34c5e3a991ee815222a9691c32476', 'git': 'https://api.github.com/repos/ironhack-datalabs/scavenger/git/blobs/f5cb13223fdc1b11f4cfbbe1694f533b3c579fa0', 'html': 'https://github.com/ironhack-datalabs/scavenger/blob/9308ccc8a4c34c5e3a991ee815222a9691c32476/97881/.0009.scavengerhunt'}}\n",
      "{'name': '.0010.scavengerhunt', 'path': '47830/.0010.scavengerhunt', 'sha': 'c1187c4badc9be6990570cef850fc87dcf3523b0', 'size': 10, 'url': 'https://api.github.com/repos/ironhack-datalabs/scavenger/contents/47830/.0010.scavengerhunt?ref=9308ccc8a4c34c5e3a991ee815222a9691c32476', 'html_url': 'https://github.com/ironhack-datalabs/scavenger/blob/9308ccc8a4c34c5e3a991ee815222a9691c32476/47830/.0010.scavengerhunt', 'git_url': 'https://api.github.com/repos/ironhack-datalabs/scavenger/git/blobs/c1187c4badc9be6990570cef850fc87dcf3523b0', 'download_url': 'https://raw.githubusercontent.com/ironhack-datalabs/scavenger/9308ccc8a4c34c5e3a991ee815222a9691c32476/47830/.0010.scavengerhunt', 'type': 'file', 'content': 'cHJlcGFyaW5nCg==\\n', 'encoding': 'base64', '_links': {'self': 'https://api.github.com/repos/ironhack-datalabs/scavenger/contents/47830/.0010.scavengerhunt?ref=9308ccc8a4c34c5e3a991ee815222a9691c32476', 'git': 'https://api.github.com/repos/ironhack-datalabs/scavenger/git/blobs/c1187c4badc9be6990570cef850fc87dcf3523b0', 'html': 'https://github.com/ironhack-datalabs/scavenger/blob/9308ccc8a4c34c5e3a991ee815222a9691c32476/47830/.0010.scavengerhunt'}}\n",
      "{'name': '.0011.scavengerhunt', 'path': '50896/.0011.scavengerhunt', 'sha': '1a00a70b240d8947af0aaa04f1a93a52c72f7420', 'size': 6, 'url': 'https://api.github.com/repos/ironhack-datalabs/scavenger/contents/50896/.0011.scavengerhunt?ref=9308ccc8a4c34c5e3a991ee815222a9691c32476', 'html_url': 'https://github.com/ironhack-datalabs/scavenger/blob/9308ccc8a4c34c5e3a991ee815222a9691c32476/50896/.0011.scavengerhunt', 'git_url': 'https://api.github.com/repos/ironhack-datalabs/scavenger/git/blobs/1a00a70b240d8947af0aaa04f1a93a52c72f7420', 'download_url': 'https://raw.githubusercontent.com/ironhack-datalabs/scavenger/9308ccc8a4c34c5e3a991ee815222a9691c32476/50896/.0011.scavengerhunt', 'type': 'file', 'content': 'ZGF0YSwK\\n', 'encoding': 'base64', '_links': {'self': 'https://api.github.com/repos/ironhack-datalabs/scavenger/contents/50896/.0011.scavengerhunt?ref=9308ccc8a4c34c5e3a991ee815222a9691c32476', 'git': 'https://api.github.com/repos/ironhack-datalabs/scavenger/git/blobs/1a00a70b240d8947af0aaa04f1a93a52c72f7420', 'html': 'https://github.com/ironhack-datalabs/scavenger/blob/9308ccc8a4c34c5e3a991ee815222a9691c32476/50896/.0011.scavengerhunt'}}\n",
      "{'name': '.0012.scavengerhunt', 'path': '15534/.0012.scavengerhunt', 'sha': '209e3ef4b6247ce746048d5711befda46206d235', 'size': 3, 'url': 'https://api.github.com/repos/ironhack-datalabs/scavenger/contents/15534/.0012.scavengerhunt?ref=9308ccc8a4c34c5e3a991ee815222a9691c32476', 'html_url': 'https://github.com/ironhack-datalabs/scavenger/blob/9308ccc8a4c34c5e3a991ee815222a9691c32476/15534/.0012.scavengerhunt', 'git_url': 'https://api.github.com/repos/ironhack-datalabs/scavenger/git/blobs/209e3ef4b6247ce746048d5711befda46206d235', 'download_url': 'https://raw.githubusercontent.com/ironhack-datalabs/scavenger/9308ccc8a4c34c5e3a991ee815222a9691c32476/15534/.0012.scavengerhunt', 'type': 'file', 'content': 'MjAK\\n', 'encoding': 'base64', '_links': {'self': 'https://api.github.com/repos/ironhack-datalabs/scavenger/contents/15534/.0012.scavengerhunt?ref=9308ccc8a4c34c5e3a991ee815222a9691c32476', 'git': 'https://api.github.com/repos/ironhack-datalabs/scavenger/git/blobs/209e3ef4b6247ce746048d5711befda46206d235', 'html': 'https://github.com/ironhack-datalabs/scavenger/blob/9308ccc8a4c34c5e3a991ee815222a9691c32476/15534/.0012.scavengerhunt'}}\n",
      "{'name': '.0013.scavengerhunt', 'path': '89338/.0013.scavengerhunt', 'sha': '3aaf448b40f878cf3067e2323616143bdde600de', 'size': 8, 'url': 'https://api.github.com/repos/ironhack-datalabs/scavenger/contents/89338/.0013.scavengerhunt?ref=9308ccc8a4c34c5e3a991ee815222a9691c32476', 'html_url': 'https://github.com/ironhack-datalabs/scavenger/blob/9308ccc8a4c34c5e3a991ee815222a9691c32476/89338/.0013.scavengerhunt', 'git_url': 'https://api.github.com/repos/ironhack-datalabs/scavenger/git/blobs/3aaf448b40f878cf3067e2323616143bdde600de', 'download_url': 'https://raw.githubusercontent.com/ironhack-datalabs/scavenger/9308ccc8a4c34c5e3a991ee815222a9691c32476/89338/.0013.scavengerhunt', 'type': 'file', 'content': 'cGVyY2VudAo=\\n', 'encoding': 'base64', '_links': {'self': 'https://api.github.com/repos/ironhack-datalabs/scavenger/contents/89338/.0013.scavengerhunt?ref=9308ccc8a4c34c5e3a991ee815222a9691c32476', 'git': 'https://api.github.com/repos/ironhack-datalabs/scavenger/git/blobs/3aaf448b40f878cf3067e2323616143bdde600de', 'html': 'https://github.com/ironhack-datalabs/scavenger/blob/9308ccc8a4c34c5e3a991ee815222a9691c32476/89338/.0013.scavengerhunt'}}\n",
      "{'name': '.0014.scavengerhunt', 'path': '49418/.0014.scavengerhunt', 'sha': '1c9064284a24b3486015eafdb391b141c27ada2b', 'size': 3, 'url': 'https://api.github.com/repos/ironhack-datalabs/scavenger/contents/49418/.0014.scavengerhunt?ref=9308ccc8a4c34c5e3a991ee815222a9691c32476', 'html_url': 'https://github.com/ironhack-datalabs/scavenger/blob/9308ccc8a4c34c5e3a991ee815222a9691c32476/49418/.0014.scavengerhunt', 'git_url': 'https://api.github.com/repos/ironhack-datalabs/scavenger/git/blobs/1c9064284a24b3486015eafdb391b141c27ada2b', 'download_url': 'https://raw.githubusercontent.com/ironhack-datalabs/scavenger/9308ccc8a4c34c5e3a991ee815222a9691c32476/49418/.0014.scavengerhunt', 'type': 'file', 'content': 'b2YK\\n', 'encoding': 'base64', '_links': {'self': 'https://api.github.com/repos/ironhack-datalabs/scavenger/contents/49418/.0014.scavengerhunt?ref=9308ccc8a4c34c5e3a991ee815222a9691c32476', 'git': 'https://api.github.com/repos/ironhack-datalabs/scavenger/git/blobs/1c9064284a24b3486015eafdb391b141c27ada2b', 'html': 'https://github.com/ironhack-datalabs/scavenger/blob/9308ccc8a4c34c5e3a991ee815222a9691c32476/49418/.0014.scavengerhunt'}}\n",
      "{'name': '.0015.scavengerhunt', 'path': '91701/.0015.scavengerhunt', 'sha': '6abb415e0ae3450be0f323113bcca2af195ebbff', 'size': 5, 'url': 'https://api.github.com/repos/ironhack-datalabs/scavenger/contents/91701/.0015.scavengerhunt?ref=9308ccc8a4c34c5e3a991ee815222a9691c32476', 'html_url': 'https://github.com/ironhack-datalabs/scavenger/blob/9308ccc8a4c34c5e3a991ee815222a9691c32476/91701/.0015.scavengerhunt', 'git_url': 'https://api.github.com/repos/ironhack-datalabs/scavenger/git/blobs/6abb415e0ae3450be0f323113bcca2af195ebbff', 'download_url': 'https://raw.githubusercontent.com/ironhack-datalabs/scavenger/9308ccc8a4c34c5e3a991ee815222a9691c32476/91701/.0015.scavengerhunt', 'type': 'file', 'content': 'dGltZQo=\\n', 'encoding': 'base64', '_links': {'self': 'https://api.github.com/repos/ironhack-datalabs/scavenger/contents/91701/.0015.scavengerhunt?ref=9308ccc8a4c34c5e3a991ee815222a9691c32476', 'git': 'https://api.github.com/repos/ironhack-datalabs/scavenger/git/blobs/6abb415e0ae3450be0f323113bcca2af195ebbff', 'html': 'https://github.com/ironhack-datalabs/scavenger/blob/9308ccc8a4c34c5e3a991ee815222a9691c32476/91701/.0015.scavengerhunt'}}\n"
     ]
    },
    {
     "name": "stdout",
     "output_type": "stream",
     "text": [
      "{'name': '.0016.scavengerhunt', 'path': '47222/.0016.scavengerhunt', 'sha': 'f5cb13223fdc1b11f4cfbbe1694f533b3c579fa0', 'size': 3, 'url': 'https://api.github.com/repos/ironhack-datalabs/scavenger/contents/47222/.0016.scavengerhunt?ref=9308ccc8a4c34c5e3a991ee815222a9691c32476', 'html_url': 'https://github.com/ironhack-datalabs/scavenger/blob/9308ccc8a4c34c5e3a991ee815222a9691c32476/47222/.0016.scavengerhunt', 'git_url': 'https://api.github.com/repos/ironhack-datalabs/scavenger/git/blobs/f5cb13223fdc1b11f4cfbbe1694f533b3c579fa0', 'download_url': 'https://raw.githubusercontent.com/ironhack-datalabs/scavenger/9308ccc8a4c34c5e3a991ee815222a9691c32476/47222/.0016.scavengerhunt', 'type': 'file', 'content': 'aXMK\\n', 'encoding': 'base64', '_links': {'self': 'https://api.github.com/repos/ironhack-datalabs/scavenger/contents/47222/.0016.scavengerhunt?ref=9308ccc8a4c34c5e3a991ee815222a9691c32476', 'git': 'https://api.github.com/repos/ironhack-datalabs/scavenger/git/blobs/f5cb13223fdc1b11f4cfbbe1694f533b3c579fa0', 'html': 'https://github.com/ironhack-datalabs/scavenger/blob/9308ccc8a4c34c5e3a991ee815222a9691c32476/47222/.0016.scavengerhunt'}}\n",
      "{'name': '.0017.scavengerhunt', 'path': '70985/.0017.scavengerhunt', 'sha': 'e351fb73264581ce26504b97ef07daea35116f32', 'size': 6, 'url': 'https://api.github.com/repos/ironhack-datalabs/scavenger/contents/70985/.0017.scavengerhunt?ref=9308ccc8a4c34c5e3a991ee815222a9691c32476', 'html_url': 'https://github.com/ironhack-datalabs/scavenger/blob/9308ccc8a4c34c5e3a991ee815222a9691c32476/70985/.0017.scavengerhunt', 'git_url': 'https://api.github.com/repos/ironhack-datalabs/scavenger/git/blobs/e351fb73264581ce26504b97ef07daea35116f32', 'download_url': 'https://raw.githubusercontent.com/ironhack-datalabs/scavenger/9308ccc8a4c34c5e3a991ee815222a9691c32476/70985/.0017.scavengerhunt', 'type': 'file', 'content': 'c3BlbnQK\\n', 'encoding': 'base64', '_links': {'self': 'https://api.github.com/repos/ironhack-datalabs/scavenger/contents/70985/.0017.scavengerhunt?ref=9308ccc8a4c34c5e3a991ee815222a9691c32476', 'git': 'https://api.github.com/repos/ironhack-datalabs/scavenger/git/blobs/e351fb73264581ce26504b97ef07daea35116f32', 'html': 'https://github.com/ironhack-datalabs/scavenger/blob/9308ccc8a4c34c5e3a991ee815222a9691c32476/70985/.0017.scavengerhunt'}}\n",
      "{'name': '.0018.scavengerhunt', 'path': '45525/.0018.scavengerhunt', 'sha': '397b22b2dc371e8db59ed327f0b75321e4c0d0f2', 'size': 12, 'url': 'https://api.github.com/repos/ironhack-datalabs/scavenger/contents/45525/.0018.scavengerhunt?ref=9308ccc8a4c34c5e3a991ee815222a9691c32476', 'html_url': 'https://github.com/ironhack-datalabs/scavenger/blob/9308ccc8a4c34c5e3a991ee815222a9691c32476/45525/.0018.scavengerhunt', 'git_url': 'https://api.github.com/repos/ironhack-datalabs/scavenger/git/blobs/397b22b2dc371e8db59ed327f0b75321e4c0d0f2', 'download_url': 'https://raw.githubusercontent.com/ironhack-datalabs/scavenger/9308ccc8a4c34c5e3a991ee815222a9691c32476/45525/.0018.scavengerhunt', 'type': 'file', 'content': 'Y29tcGxhaW5pbmcK\\n', 'encoding': 'base64', '_links': {'self': 'https://api.github.com/repos/ironhack-datalabs/scavenger/contents/45525/.0018.scavengerhunt?ref=9308ccc8a4c34c5e3a991ee815222a9691c32476', 'git': 'https://api.github.com/repos/ironhack-datalabs/scavenger/git/blobs/397b22b2dc371e8db59ed327f0b75321e4c0d0f2', 'html': 'https://github.com/ironhack-datalabs/scavenger/blob/9308ccc8a4c34c5e3a991ee815222a9691c32476/45525/.0018.scavengerhunt'}}\n",
      "{'name': '.0019.scavengerhunt', 'path': '70751/.0019.scavengerhunt', 'sha': '09e16f36b3c4993ba924b1074629283a49869be9', 'size': 6, 'url': 'https://api.github.com/repos/ironhack-datalabs/scavenger/contents/70751/.0019.scavengerhunt?ref=9308ccc8a4c34c5e3a991ee815222a9691c32476', 'html_url': 'https://github.com/ironhack-datalabs/scavenger/blob/9308ccc8a4c34c5e3a991ee815222a9691c32476/70751/.0019.scavengerhunt', 'git_url': 'https://api.github.com/repos/ironhack-datalabs/scavenger/git/blobs/09e16f36b3c4993ba924b1074629283a49869be9', 'download_url': 'https://raw.githubusercontent.com/ironhack-datalabs/scavenger/9308ccc8a4c34c5e3a991ee815222a9691c32476/70751/.0019.scavengerhunt', 'type': 'file', 'content': 'YWJvdXQK\\n', 'encoding': 'base64', '_links': {'self': 'https://api.github.com/repos/ironhack-datalabs/scavenger/contents/70751/.0019.scavengerhunt?ref=9308ccc8a4c34c5e3a991ee815222a9691c32476', 'git': 'https://api.github.com/repos/ironhack-datalabs/scavenger/git/blobs/09e16f36b3c4993ba924b1074629283a49869be9', 'html': 'https://github.com/ironhack-datalabs/scavenger/blob/9308ccc8a4c34c5e3a991ee815222a9691c32476/70751/.0019.scavengerhunt'}}\n",
      "{'name': '.0020.scavengerhunt', 'path': '55685/.0020.scavengerhunt', 'sha': '41d25f51c301c5eee3737998b0d86573e4e91b90', 'size': 4, 'url': 'https://api.github.com/repos/ironhack-datalabs/scavenger/contents/55685/.0020.scavengerhunt?ref=9308ccc8a4c34c5e3a991ee815222a9691c32476', 'html_url': 'https://github.com/ironhack-datalabs/scavenger/blob/9308ccc8a4c34c5e3a991ee815222a9691c32476/55685/.0020.scavengerhunt', 'git_url': 'https://api.github.com/repos/ironhack-datalabs/scavenger/git/blobs/41d25f51c301c5eee3737998b0d86573e4e91b90', 'download_url': 'https://raw.githubusercontent.com/ironhack-datalabs/scavenger/9308ccc8a4c34c5e3a991ee815222a9691c32476/55685/.0020.scavengerhunt', 'type': 'file', 'content': 'dGhlCg==\\n', 'encoding': 'base64', '_links': {'self': 'https://api.github.com/repos/ironhack-datalabs/scavenger/contents/55685/.0020.scavengerhunt?ref=9308ccc8a4c34c5e3a991ee815222a9691c32476', 'git': 'https://api.github.com/repos/ironhack-datalabs/scavenger/git/blobs/41d25f51c301c5eee3737998b0d86573e4e91b90', 'html': 'https://github.com/ironhack-datalabs/scavenger/blob/9308ccc8a4c34c5e3a991ee815222a9691c32476/55685/.0020.scavengerhunt'}}\n",
      "{'name': '.0021.scavengerhunt', 'path': '30351/.0021.scavengerhunt', 'sha': 'fb828e4a926b0a84fc16111fc0ee3eeec41f0ce7', 'size': 5, 'url': 'https://api.github.com/repos/ironhack-datalabs/scavenger/contents/30351/.0021.scavengerhunt?ref=9308ccc8a4c34c5e3a991ee815222a9691c32476', 'html_url': 'https://github.com/ironhack-datalabs/scavenger/blob/9308ccc8a4c34c5e3a991ee815222a9691c32476/30351/.0021.scavengerhunt', 'git_url': 'https://api.github.com/repos/ironhack-datalabs/scavenger/git/blobs/fb828e4a926b0a84fc16111fc0ee3eeec41f0ce7', 'download_url': 'https://raw.githubusercontent.com/ironhack-datalabs/scavenger/9308ccc8a4c34c5e3a991ee815222a9691c32476/30351/.0021.scavengerhunt', 'type': 'file', 'content': 'bmVlZAo=\\n', 'encoding': 'base64', '_links': {'self': 'https://api.github.com/repos/ironhack-datalabs/scavenger/contents/30351/.0021.scavengerhunt?ref=9308ccc8a4c34c5e3a991ee815222a9691c32476', 'git': 'https://api.github.com/repos/ironhack-datalabs/scavenger/git/blobs/fb828e4a926b0a84fc16111fc0ee3eeec41f0ce7', 'html': 'https://github.com/ironhack-datalabs/scavenger/blob/9308ccc8a4c34c5e3a991ee815222a9691c32476/30351/.0021.scavengerhunt'}}\n",
      "{'name': '.0022.scavengerhunt', 'path': '40303/.0022.scavengerhunt', 'sha': 'bf3efa02f721c40c03a613824e345243a35f6812', 'size': 3, 'url': 'https://api.github.com/repos/ironhack-datalabs/scavenger/contents/40303/.0022.scavengerhunt?ref=9308ccc8a4c34c5e3a991ee815222a9691c32476', 'html_url': 'https://github.com/ironhack-datalabs/scavenger/blob/9308ccc8a4c34c5e3a991ee815222a9691c32476/40303/.0022.scavengerhunt', 'git_url': 'https://api.github.com/repos/ironhack-datalabs/scavenger/git/blobs/bf3efa02f721c40c03a613824e345243a35f6812', 'download_url': 'https://raw.githubusercontent.com/ironhack-datalabs/scavenger/9308ccc8a4c34c5e3a991ee815222a9691c32476/40303/.0022.scavengerhunt', 'type': 'file', 'content': 'dG8K\\n', 'encoding': 'base64', '_links': {'self': 'https://api.github.com/repos/ironhack-datalabs/scavenger/contents/40303/.0022.scavengerhunt?ref=9308ccc8a4c34c5e3a991ee815222a9691c32476', 'git': 'https://api.github.com/repos/ironhack-datalabs/scavenger/git/blobs/bf3efa02f721c40c03a613824e345243a35f6812', 'html': 'https://github.com/ironhack-datalabs/scavenger/blob/9308ccc8a4c34c5e3a991ee815222a9691c32476/40303/.0022.scavengerhunt'}}\n",
      "{'name': '.0023.scavengerhunt', 'path': '55417/.0023.scavengerhunt', 'sha': '04d0ffb8d895a9e3ee244493e829a24468bd1f60', 'size': 8, 'url': 'https://api.github.com/repos/ironhack-datalabs/scavenger/contents/55417/.0023.scavengerhunt?ref=9308ccc8a4c34c5e3a991ee815222a9691c32476', 'html_url': 'https://github.com/ironhack-datalabs/scavenger/blob/9308ccc8a4c34c5e3a991ee815222a9691c32476/55417/.0023.scavengerhunt', 'git_url': 'https://api.github.com/repos/ironhack-datalabs/scavenger/git/blobs/04d0ffb8d895a9e3ee244493e829a24468bd1f60', 'download_url': 'https://raw.githubusercontent.com/ironhack-datalabs/scavenger/9308ccc8a4c34c5e3a991ee815222a9691c32476/55417/.0023.scavengerhunt', 'type': 'file', 'content': 'cHJlcGFyZQo=\\n', 'encoding': 'base64', '_links': {'self': 'https://api.github.com/repos/ironhack-datalabs/scavenger/contents/55417/.0023.scavengerhunt?ref=9308ccc8a4c34c5e3a991ee815222a9691c32476', 'git': 'https://api.github.com/repos/ironhack-datalabs/scavenger/git/blobs/04d0ffb8d895a9e3ee244493e829a24468bd1f60', 'html': 'https://github.com/ironhack-datalabs/scavenger/blob/9308ccc8a4c34c5e3a991ee815222a9691c32476/55417/.0023.scavengerhunt'}}\n"
     ]
    },
    {
     "name": "stdout",
     "output_type": "stream",
     "text": [
      "{'name': '.0024.scavengerhunt', 'path': '47222/.0024.scavengerhunt', 'sha': '47eb4306e5fec9e051dacabc7039348109784b94', 'size': 6, 'url': 'https://api.github.com/repos/ironhack-datalabs/scavenger/contents/47222/.0024.scavengerhunt?ref=9308ccc8a4c34c5e3a991ee815222a9691c32476', 'html_url': 'https://github.com/ironhack-datalabs/scavenger/blob/9308ccc8a4c34c5e3a991ee815222a9691c32476/47222/.0024.scavengerhunt', 'git_url': 'https://api.github.com/repos/ironhack-datalabs/scavenger/git/blobs/47eb4306e5fec9e051dacabc7039348109784b94', 'download_url': 'https://raw.githubusercontent.com/ironhack-datalabs/scavenger/9308ccc8a4c34c5e3a991ee815222a9691c32476/47222/.0024.scavengerhunt', 'type': 'file', 'content': 'ZGF0YS4K\\n', 'encoding': 'base64', '_links': {'self': 'https://api.github.com/repos/ironhack-datalabs/scavenger/contents/47222/.0024.scavengerhunt?ref=9308ccc8a4c34c5e3a991ee815222a9691c32476', 'git': 'https://api.github.com/repos/ironhack-datalabs/scavenger/git/blobs/47eb4306e5fec9e051dacabc7039348109784b94', 'html': 'https://github.com/ironhack-datalabs/scavenger/blob/9308ccc8a4c34c5e3a991ee815222a9691c32476/47222/.0024.scavengerhunt'}}\n"
     ]
    },
    {
     "data": {
      "text/plain": [
       "'\\n{\\'message\\': \"API rate limit exceeded for 5.224.116.191. (But here\\'s the good news: \\nAuthenticated requests get a higher rate limit. Check out the documentation for more details.)\", \\n\\'documentation_url\\': \\'https://developer.github.com/v3/#rate-limiting\\'}\\n\\n'"
      ]
     },
     "execution_count": 6,
     "metadata": {},
     "output_type": "execute_result"
    }
   ],
   "source": [
    "# https://api.github.com/search/code?q=addClass+repo:jquery/jquery+filename:classes.js\n",
    "# https://github.com/ironhack-datalabs/scavenger\n",
    "# .0001.scavengerhunt to .0024.scavengerhunt\n",
    "# https://docs.github.com/en/github/searching-for-information-on-github/searching-code#search-by-the-file-contents-or-file-path\n",
    "\n",
    "\n",
    "params ={\"q\":\"filename:.scavengerhunt repo:ironhack-datalabs/scavenger\"}\n",
    "\n",
    "\n",
    "data = get_gh_data(f\"/search/code\", query_params=params)\n",
    "print(len(data[\"items\"]))\n",
    "\n",
    "data_resume = {file[\"name\"]:file[\"url\"] for file in data[\"items\"]}\n",
    "#print(data_resume)\n",
    "\n",
    "data_resume_items = data_resume.items()\n",
    "data_ordenado = sorted(data_resume_items)\n",
    "#print(data_ordenado)\n",
    "\n",
    "\n",
    "words_list = []\n",
    "\n",
    "\n",
    "\n",
    "for i in data_ordenado:\n",
    "    res = requests.get(i[1])\n",
    "    print(res.json())\n",
    "    text_file = requests.get(res.json()[\"download_url\"])\n",
    "    #print(text_file.text)\n",
    "    texto = text_file.text\n",
    "    #print(texto)\n",
    "    words_list.append(texto)\n",
    "\n",
    "#print(words_list)\n",
    "\n",
    "\"\"\"\n",
    "{'message': \"API rate limit exceeded for 5.224.116.191. (But here's the good news: \n",
    "Authenticated requests get a higher rate limit. Check out the documentation for more details.)\", \n",
    "'documentation_url': 'https://developer.github.com/v3/#rate-limiting'}\n",
    "\n",
    "\"\"\""
   ]
  },
  {
   "cell_type": "code",
   "execution_count": 16,
   "metadata": {},
   "outputs": [
    {
     "name": "stdout",
     "output_type": "stream",
     "text": [
      "Indata science,80 percentof timespent ispreparing data,20 percentof timeis spentcomplaining aboutthe needto preparedata.\n"
     ]
    }
   ],
   "source": [
    "#print(words_list)\n",
    "\n",
    "words_list = [s.strip() for s in words_list]\n",
    "\n",
    "# Concatenate the strings in the array separating each two with a whitespace\n",
    "\n",
    "result = \"\"\n",
    "for i in range(len(words_list)):\n",
    "    if i>0 and i%2==0:\n",
    "        result+=\" \"+words_list[i]\n",
    "    else:\n",
    "        result+=words_list[i]\n",
    "\n",
    "print(result)\n",
    "# El resultado del ejercicio es el siguiente"
   ]
  },
  {
   "cell_type": "code",
   "execution_count": null,
   "metadata": {},
   "outputs": [],
   "source": []
  },
  {
   "cell_type": "code",
   "execution_count": null,
   "metadata": {},
   "outputs": [],
   "source": []
  }
 ],
 "metadata": {
  "kernelspec": {
   "display_name": "Python 3",
   "language": "python",
   "name": "python3"
  },
  "language_info": {
   "codemirror_mode": {
    "name": "ipython",
    "version": 3
   },
   "file_extension": ".py",
   "mimetype": "text/x-python",
   "name": "python",
   "nbconvert_exporter": "python",
   "pygments_lexer": "ipython3",
   "version": "3.8.5"
  }
 },
 "nbformat": 4,
 "nbformat_minor": 4
}
