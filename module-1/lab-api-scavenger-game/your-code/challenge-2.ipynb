{
 "cells": [
  {
   "cell_type": "markdown",
   "metadata": {},
   "source": [
    "## Challenge 2: Count Commits\n",
    "\n",
    "Count how many commits were made in the past week.\n",
    "\n",
    "Obtain all the commits made in the past week via API, which is a JSON array that contains multiple commit objects.\n",
    "\n",
    "Count how many commit objects are contained in the array."
   ]
  },
  {
   "cell_type": "code",
   "execution_count": 2,
   "metadata": {},
   "outputs": [
    {
     "name": "stdout",
     "output_type": "stream",
     "text": [
      "setup completado\n"
     ]
    }
   ],
   "source": [
    "import os\n",
    "from dotenv import load_dotenv\n",
    "import requests\n",
    "\n",
    "load_dotenv()\n",
    "print(\"setup completado\")"
   ]
  },
  {
   "cell_type": "code",
   "execution_count": 3,
   "metadata": {},
   "outputs": [],
   "source": [
    "def get_gh_data(endpoint, apiKey=os.getenv(\"GITHUB_APIKEY\"), query_params={}):\n",
    "    \n",
    "    baseUrl = \"https://api.github.com\"\n",
    "    url = f\"{baseUrl}{endpoint}\"\n",
    "    headers = {\n",
    "        \"Authorization\": f\"Bearer {apiKey}\"\n",
    "    }\n",
    "    res = requests.get(url, params=query_params, headers=headers)\n",
    "    print(f\"Request data to {res.url} status_code:{res.status_code}\")\n",
    "    \n",
    "    data = res.json()\n",
    "    return data  "
   ]
  },
  {
   "cell_type": "code",
   "execution_count": 16,
   "metadata": {},
   "outputs": [
    {
     "name": "stdout",
     "output_type": "stream",
     "text": [
      "Request data to https://api.github.com/repos/ironhack-datalabs/datamad0820/commits?per_page=100 status_code:200\n",
      "4\n"
     ]
    }
   ],
   "source": [
    "# GET /repos/:owner/:repo/commits\n",
    "# ironhack-datalabs/datamad0820\n",
    "\n",
    "# Solución al ejericicio propuesto con el repo de nuestro bootcamp\n",
    "data = get_gh_data(f\"/repos/ironhack-datalabs/datamad0820/commits\",query_params={\"per_page\":100})\n",
    "print(len(data))\n",
    "#print(data)\n",
    "\n",
    "# Alternativa para comprobar los parámetros de fecha\n",
    "#data = get_gh_data(f\"/repos/rfminguez/w3_storytelling/commits\",query_params={\"per_page\":100, \"since\":\"2020-09-06\", \"until\":\"2020-09-07\"})\n",
    "#print(len(data))\n",
    "#print(data)"
   ]
  },
  {
   "cell_type": "code",
   "execution_count": null,
   "metadata": {},
   "outputs": [],
   "source": []
  }
 ],
 "metadata": {
  "kernelspec": {
   "display_name": "Python 3",
   "language": "python",
   "name": "python3"
  },
  "language_info": {
   "codemirror_mode": {
    "name": "ipython",
    "version": 3
   },
   "file_extension": ".py",
   "mimetype": "text/x-python",
   "name": "python",
   "nbconvert_exporter": "python",
   "pygments_lexer": "ipython3",
   "version": "3.8.5"
  }
 },
 "nbformat": 4,
 "nbformat_minor": 4
}
